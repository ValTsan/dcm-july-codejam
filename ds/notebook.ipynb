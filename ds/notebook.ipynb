{
 "cells": [
  {
   "cell_type": "code",
   "execution_count": 1,
   "id": "bff4f22d",
   "metadata": {},
   "outputs": [
    {
     "name": "stdout",
     "output_type": "stream",
     "text": [
      "Requirement already satisfied: geopy in c:\\users\\jeelf\\anaconda3\\lib\\site-packages (2.4.1)\n",
      "Requirement already satisfied: geographiclib<3,>=1.52 in c:\\users\\jeelf\\anaconda3\\lib\\site-packages (from geopy) (2.0)\n"
     ]
    },
    {
     "name": "stderr",
     "output_type": "stream",
     "text": [
      "\n",
      "[notice] A new release of pip is available: 25.0.1 -> 25.1.1\n",
      "[notice] To update, run: python.exe -m pip install --upgrade pip\n"
     ]
    }
   ],
   "source": [
    "!pip install geopy"
   ]
  },
  {
   "cell_type": "code",
   "execution_count": 2,
   "id": "e8339e64",
   "metadata": {},
   "outputs": [],
   "source": [
    "# Import necessary libraries\n",
    "import pandas as pd\n",
    "import numpy as np\n",
    "import seaborn as sns\n",
    "import matplotlib.pyplot as plt\n",
    "from sklearn.model_selection import train_test_split, GridSearchCV\n",
    "from sklearn.metrics import accuracy_score, roc_auc_score, classification_report, confusion_matrix, roc_curve, auc\n",
    "import time\n",
    "\n",
    "# Basline Model\n",
    "from geopy.distance import geodesic\n",
    "from sklearn.linear_model import LogisticRegression\n",
    "\n",
    "# Tree-Based Models\n",
    "from sklearn.ensemble import RandomForestClassifier\n",
    "\n",
    "# Gradient Boosting Models\n",
    "from xgboost import XGBClassifier\n",
    "from lightgbm import LGBMClassifier\n",
    "from catboost import CatBoostClassifier\n",
    "\n",
    "# Scaling (for Logistic Regression)\n",
    "from sklearn.preprocessing import StandardScaler"
   ]
  },
  {
   "cell_type": "code",
   "execution_count": 3,
   "id": "2a93a2ea",
   "metadata": {},
   "outputs": [
    {
     "data": {
      "text/html": [
       "<div>\n",
       "<style scoped>\n",
       "    .dataframe tbody tr th:only-of-type {\n",
       "        vertical-align: middle;\n",
       "    }\n",
       "\n",
       "    .dataframe tbody tr th {\n",
       "        vertical-align: top;\n",
       "    }\n",
       "\n",
       "    .dataframe thead th {\n",
       "        text-align: right;\n",
       "    }\n",
       "</style>\n",
       "<table border=\"1\" class=\"dataframe\">\n",
       "  <thead>\n",
       "    <tr style=\"text-align: right;\">\n",
       "      <th></th>\n",
       "      <th>name</th>\n",
       "      <th>state</th>\n",
       "      <th>latitude</th>\n",
       "      <th>longitude</th>\n",
       "      <th>category</th>\n",
       "    </tr>\n",
       "  </thead>\n",
       "  <tbody>\n",
       "    <tr>\n",
       "      <th>0</th>\n",
       "      <td>Grand Canyon National Park</td>\n",
       "      <td>Arizona</td>\n",
       "      <td>36.11</td>\n",
       "      <td>-112.11</td>\n",
       "      <td>National Park</td>\n",
       "    </tr>\n",
       "    <tr>\n",
       "      <th>1</th>\n",
       "      <td>Yosemite National Park</td>\n",
       "      <td>California</td>\n",
       "      <td>37.87</td>\n",
       "      <td>-119.54</td>\n",
       "      <td>National Park</td>\n",
       "    </tr>\n",
       "    <tr>\n",
       "      <th>2</th>\n",
       "      <td>Yellowstone National Park</td>\n",
       "      <td>Wyoming</td>\n",
       "      <td>44.43</td>\n",
       "      <td>-110.59</td>\n",
       "      <td>National Park</td>\n",
       "    </tr>\n",
       "    <tr>\n",
       "      <th>3</th>\n",
       "      <td>Zion National Park</td>\n",
       "      <td>Utah</td>\n",
       "      <td>37.30</td>\n",
       "      <td>-113.03</td>\n",
       "      <td>National Park</td>\n",
       "    </tr>\n",
       "    <tr>\n",
       "      <th>4</th>\n",
       "      <td>Mount Rushmore</td>\n",
       "      <td>South Dakota</td>\n",
       "      <td>43.88</td>\n",
       "      <td>-103.46</td>\n",
       "      <td>Monument</td>\n",
       "    </tr>\n",
       "    <tr>\n",
       "      <th>5</th>\n",
       "      <td>Great Smoky Mountains</td>\n",
       "      <td>Tennessee</td>\n",
       "      <td>35.65</td>\n",
       "      <td>-83.51</td>\n",
       "      <td>Natural Wonder</td>\n",
       "    </tr>\n",
       "    <tr>\n",
       "      <th>6</th>\n",
       "      <td>Statue of Liberty</td>\n",
       "      <td>New York</td>\n",
       "      <td>40.69</td>\n",
       "      <td>-74.04</td>\n",
       "      <td>Historical Landmark</td>\n",
       "    </tr>\n",
       "    <tr>\n",
       "      <th>7</th>\n",
       "      <td>Arches National Park</td>\n",
       "      <td>Utah</td>\n",
       "      <td>38.73</td>\n",
       "      <td>-109.59</td>\n",
       "      <td>National Park</td>\n",
       "    </tr>\n",
       "    <tr>\n",
       "      <th>8</th>\n",
       "      <td>Niagara Falls</td>\n",
       "      <td>New York</td>\n",
       "      <td>43.10</td>\n",
       "      <td>-79.04</td>\n",
       "      <td>Natural Wonder</td>\n",
       "    </tr>\n",
       "    <tr>\n",
       "      <th>9</th>\n",
       "      <td>Golden Gate Bridge</td>\n",
       "      <td>California</td>\n",
       "      <td>37.82</td>\n",
       "      <td>-122.48</td>\n",
       "      <td>Landmark</td>\n",
       "    </tr>\n",
       "  </tbody>\n",
       "</table>\n",
       "</div>"
      ],
      "text/plain": [
       "                         name         state  latitude  longitude  \\\n",
       "0  Grand Canyon National Park       Arizona     36.11    -112.11   \n",
       "1      Yosemite National Park    California     37.87    -119.54   \n",
       "2   Yellowstone National Park       Wyoming     44.43    -110.59   \n",
       "3          Zion National Park          Utah     37.30    -113.03   \n",
       "4              Mount Rushmore  South Dakota     43.88    -103.46   \n",
       "5       Great Smoky Mountains     Tennessee     35.65     -83.51   \n",
       "6           Statue of Liberty      New York     40.69     -74.04   \n",
       "7        Arches National Park          Utah     38.73    -109.59   \n",
       "8               Niagara Falls      New York     43.10     -79.04   \n",
       "9          Golden Gate Bridge    California     37.82    -122.48   \n",
       "\n",
       "              category  \n",
       "0        National Park  \n",
       "1        National Park  \n",
       "2        National Park  \n",
       "3        National Park  \n",
       "4             Monument  \n",
       "5       Natural Wonder  \n",
       "6  Historical Landmark  \n",
       "7        National Park  \n",
       "8       Natural Wonder  \n",
       "9             Landmark  "
      ]
     },
     "metadata": {},
     "output_type": "display_data"
    }
   ],
   "source": [
    "# load the dataset and set certain arguments to read the data correctly.\n",
    "data = pd.read_csv('data.csv')\n",
    "\n",
    "# Display the first few rows of the dataset\n",
    "display(data)"
   ]
  },
  {
   "cell_type": "code",
   "execution_count": 4,
   "id": "2bde0471",
   "metadata": {},
   "outputs": [
    {
     "name": "stdout",
     "output_type": "stream",
     "text": [
      "The DataFrame has 10 rows and 5 columns.\n"
     ]
    }
   ],
   "source": [
    "# Determining the size of the DataFrame\n",
    "n_rows, n_cols = data.shape\n",
    "print(f\"The DataFrame has {n_rows} rows and {n_cols} columns.\")"
   ]
  },
  {
   "cell_type": "code",
   "execution_count": 5,
   "id": "368da4ac",
   "metadata": {},
   "outputs": [
    {
     "name": "stdout",
     "output_type": "stream",
     "text": [
      "<class 'pandas.core.frame.DataFrame'>\n",
      "RangeIndex: 10 entries, 0 to 9\n",
      "Data columns (total 5 columns):\n",
      " #   Column     Non-Null Count  Dtype  \n",
      "---  ------     --------------  -----  \n",
      " 0   name       10 non-null     object \n",
      " 1   state      10 non-null     object \n",
      " 2   latitude   10 non-null     float64\n",
      " 3   longitude  10 non-null     float64\n",
      " 4   category   10 non-null     object \n",
      "dtypes: float64(2), object(3)\n",
      "memory usage: 532.0+ bytes\n"
     ]
    }
   ],
   "source": [
    "# Display informative summary of the DataFrame\n",
    "data.info()"
   ]
  },
  {
   "cell_type": "code",
   "execution_count": 6,
   "id": "80c7ae9b",
   "metadata": {},
   "outputs": [
    {
     "data": {
      "text/html": [
       "<div>\n",
       "<style scoped>\n",
       "    .dataframe tbody tr th:only-of-type {\n",
       "        vertical-align: middle;\n",
       "    }\n",
       "\n",
       "    .dataframe tbody tr th {\n",
       "        vertical-align: top;\n",
       "    }\n",
       "\n",
       "    .dataframe thead th {\n",
       "        text-align: right;\n",
       "    }\n",
       "</style>\n",
       "<table border=\"1\" class=\"dataframe\">\n",
       "  <thead>\n",
       "    <tr style=\"text-align: right;\">\n",
       "      <th></th>\n",
       "      <th>latitude</th>\n",
       "      <th>longitude</th>\n",
       "    </tr>\n",
       "  </thead>\n",
       "  <tbody>\n",
       "    <tr>\n",
       "      <th>count</th>\n",
       "      <td>10.000000</td>\n",
       "      <td>10.000000</td>\n",
       "    </tr>\n",
       "    <tr>\n",
       "      <th>mean</th>\n",
       "      <td>39.558000</td>\n",
       "      <td>-102.739000</td>\n",
       "    </tr>\n",
       "    <tr>\n",
       "      <th>std</th>\n",
       "      <td>3.249933</td>\n",
       "      <td>17.415909</td>\n",
       "    </tr>\n",
       "    <tr>\n",
       "      <th>min</th>\n",
       "      <td>35.650000</td>\n",
       "      <td>-122.480000</td>\n",
       "    </tr>\n",
       "    <tr>\n",
       "      <th>25%</th>\n",
       "      <td>37.430000</td>\n",
       "      <td>-112.800000</td>\n",
       "    </tr>\n",
       "    <tr>\n",
       "      <th>50%</th>\n",
       "      <td>38.300000</td>\n",
       "      <td>-110.090000</td>\n",
       "    </tr>\n",
       "    <tr>\n",
       "      <th>75%</th>\n",
       "      <td>42.497500</td>\n",
       "      <td>-88.497500</td>\n",
       "    </tr>\n",
       "    <tr>\n",
       "      <th>max</th>\n",
       "      <td>44.430000</td>\n",
       "      <td>-74.040000</td>\n",
       "    </tr>\n",
       "  </tbody>\n",
       "</table>\n",
       "</div>"
      ],
      "text/plain": [
       "        latitude   longitude\n",
       "count  10.000000   10.000000\n",
       "mean   39.558000 -102.739000\n",
       "std     3.249933   17.415909\n",
       "min    35.650000 -122.480000\n",
       "25%    37.430000 -112.800000\n",
       "50%    38.300000 -110.090000\n",
       "75%    42.497500  -88.497500\n",
       "max    44.430000  -74.040000"
      ]
     },
     "metadata": {},
     "output_type": "display_data"
    }
   ],
   "source": [
    "# Display descriptive statistics of the DataFrame\n",
    "display(data.describe())"
   ]
  },
  {
   "cell_type": "code",
   "execution_count": 7,
   "id": "bfa3b1c3",
   "metadata": {},
   "outputs": [
    {
     "data": {
      "text/plain": [
       "Index(['name', 'state', 'latitude', 'longitude', 'category'], dtype='object')"
      ]
     },
     "execution_count": 7,
     "metadata": {},
     "output_type": "execute_result"
    }
   ],
   "source": [
    "data.columns"
   ]
  },
  {
   "cell_type": "code",
   "execution_count": 8,
   "id": "c26ff443",
   "metadata": {},
   "outputs": [],
   "source": [
    "locations = data[['name', 'latitude', 'longitude']]"
   ]
  },
  {
   "cell_type": "markdown",
   "id": "d86633bb",
   "metadata": {},
   "source": [
    "### Baseline Route"
   ]
  },
  {
   "cell_type": "code",
   "execution_count": null,
   "id": "03164166",
   "metadata": {},
   "outputs": [],
   "source": [
    "# Create random route\n",
    "random_route = locations.sample(frac=1, random_state=7).reset_index(drop=True)"
   ]
  },
  {
   "cell_type": "code",
   "execution_count": 10,
   "id": "ef71d437",
   "metadata": {},
   "outputs": [
    {
     "name": "stdout",
     "output_type": "stream",
     "text": [
      "Baseline Distance(km): 13005 km\n"
     ]
    }
   ],
   "source": [
    "# Compute total distance\n",
    "def total_distance(route):\n",
    "    distance = 0\n",
    "    for i in range(len(route) - 1):\n",
    "        start = (route.loc[i]['latitude'], route.loc[i]['longitude'])\n",
    "        end = (route.loc[i + 1]['latitude'], route.loc[i + 1]['longitude'])\n",
    "        distance += geodesic(start, end).km\n",
    "    return distance\n",
    "\n",
    "baseline_distance = total_distance(random_route)\n",
    "print(f\"Baseline Distance(km): {baseline_distance:.0f} km\")"
   ]
  },
  {
   "cell_type": "markdown",
   "id": "1d7c9dba",
   "metadata": {},
   "source": [
    "Loaded CSV and pulls out the latitude/longitude columns as a simple list of (lat, lon) pairs."
   ]
  },
  {
   "cell_type": "code",
   "execution_count": null,
   "id": "3af5b342",
   "metadata": {},
   "outputs": [],
   "source": [
    "import pandas as pd\n",
    "import random                                    \n",
    "from geopy.distance import geodesic\n",
    "\n",
    "data = pd.read_csv('data.csv')\n",
    "\n",
    "# Extract latitude & longitude into a list of tuples\n",
    "locs = list(zip(data['latitude'], data['longitude']))"
   ]
  },
  {
   "cell_type": "markdown",
   "id": "472990e2",
   "metadata": {},
   "source": [
    "Code picks a random order of locations, then calculates and prints the total distance of random route."
   ]
  },
  {
   "cell_type": "code",
   "execution_count": null,
   "id": "7d39c773",
   "metadata": {},
   "outputs": [],
   "source": [
    "random.seed(1)                       \n",
    "route_rand = locs.copy()     \n",
    "random.shuffle(route_rand)\n",
    "\n",
    "rand_km = sum(geodesic(route_rand[i], route_rand[i+1]).km\n",
    "    for i in range(len(route_rand) - 1))\n",
    "print(f\"Random route ≈ {rand_km:.0f} km\")"
   ]
  },
  {
   "cell_type": "markdown",
   "id": "8d2114bb",
   "metadata": {},
   "source": [
    "Implements a simple 'nearest‑neighbor' tour, that start at the first point, repeatedly go to the closest unvisited location, then sum and print the total distance of that route."
   ]
  },
  {
   "cell_type": "code",
   "execution_count": null,
   "id": "1dea5b8a",
   "metadata": {},
   "outputs": [],
   "source": [
    "unvisited = locs.copy()\n",
    "route_nn = [unvisited.pop(0)]\n",
    "\n",
    "while unvisited: \n",
    "    last_point = route_nn[-1] \n",
    "    idx = min(\n",
    "        range(len(unvisited)),\n",
    "        key=lambda i: geodesic(last_point, unvisited[i]).km\n",
    "    )\n",
    "    route_nn.append(unvisited.pop(idx))\n",
    "\n",
    "nn_km = sum(geodesic(route_nn[i], route_nn[i+1]).km\n",
    "    for i in range(len(route_nn) - 1))\n",
    "print(f\"Nearest‐neighbor ≈ {nn_km:.0f} km\")  "
   ]
  },
  {
   "cell_type": "markdown",
   "id": "0d469e76",
   "metadata": {},
   "source": [
    "### Optimized Route"
   ]
  },
  {
   "cell_type": "markdown",
   "id": "8c396f09",
   "metadata": {},
   "source": [
    "This tiny snippet lets you calculate the total length."
   ]
  },
  {
   "cell_type": "code",
   "execution_count": 11,
   "id": "6fd43752",
   "metadata": {},
   "outputs": [],
   "source": [
    "# Function to calculate the total distance of a route\n",
    "def total_distance(route):\n",
    "    distance = 0\n",
    "    for i in range(len(route) - 1):\n",
    "        start = (route.iloc[i]['latitude'], route.iloc[i]['longitude'])\n",
    "        end = (route.iloc[i + 1]['latitude'], route.iloc[i + 1]['longitude'])\n",
    "        distance += geodesic(start, end).km\n",
    "    return distance"
   ]
  },
  {
   "cell_type": "code",
   "execution_count": 12,
   "id": "f3637c80",
   "metadata": {},
   "outputs": [
    {
     "name": "stdout",
     "output_type": "stream",
     "text": [
      "Optimized Distance: 8344 km\n",
      "Time taken: 0.02 seconds\n"
     ]
    }
   ],
   "source": [
    "# Function to calculate the optimized route using the nearest neighbor algorithm\n",
    "def nearest_neighbor(locations):\n",
    "    start_time = time.time()\n",
    "\n",
    "    unvisited = locations.copy().reset_index(drop=True)\n",
    "    route = []\n",
    "\n",
    "    current_location = unvisited.iloc[0]\n",
    "    route.append(current_location)\n",
    "    unvisited = unvisited.drop(index=0).reset_index(drop=True)\n",
    "\n",
    "    while not unvisited.empty:\n",
    "        min_distance = float('inf')\n",
    "        nearest_index = None\n",
    "\n",
    "        for index, location in unvisited.iterrows():\n",
    "            dist = geodesic(\n",
    "                (current_location['latitude'], current_location['longitude']),\n",
    "                (location['latitude'], location['longitude'])\n",
    "            ).km\n",
    "            if dist < min_distance:\n",
    "                min_distance = dist\n",
    "                nearest_index = index\n",
    "\n",
    "        current_location = unvisited.iloc[nearest_index]\n",
    "        route.append(current_location)\n",
    "        unvisited = unvisited.drop(index=nearest_index).reset_index(drop=True)\n",
    "\n",
    "    route_df = pd.DataFrame(route)\n",
    "    duration = time.time() - start_time\n",
    "    return route_df, total_distance(route_df), duration\n",
    "\n",
    "# Calculate the optimized route using the nearest neighbor algorithm\n",
    "route, distance, duration = nearest_neighbor(locations)\n",
    "\n",
    "print(f\"Optimized Distance: {distance:.0f} km\")\n",
    "print(f\"Time taken: {duration:.2f} seconds\")\n"
   ]
  },
  {
   "cell_type": "code",
   "execution_count": null,
   "id": "83125d05",
   "metadata": {},
   "outputs": [],
   "source": []
  },
  {
   "cell_type": "markdown",
   "id": "6fb0200d",
   "metadata": {},
   "outputs": [],
   "source": [
    "from geopy.distance import geodesic\n",
    "\n",
    "def route_distance(route):\n",
    "    return sum(geodesic(route[i], route[i+1]).km\n",
    "        for i in range(len(route) - 1))"
   ]
  }
 ],
 "metadata": {
  "kernelspec": {
   "display_name": "base",
   "language": "python",
   "name": "python3"
  },
  "language_info": {
   "codemirror_mode": {
    "name": "ipython",
    "version": 3
   },
   "file_extension": ".py",
   "mimetype": "text/x-python",
   "name": "python",
   "nbconvert_exporter": "python",
   "pygments_lexer": "ipython3",
   "version": "3.12.4"
  }
 },
 "nbformat": 4,
 "nbformat_minor": 5
}
